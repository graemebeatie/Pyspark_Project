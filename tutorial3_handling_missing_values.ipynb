{
 "cells": [
  {
   "cell_type": "markdown",
   "metadata": {},
   "source": [
    "## Pyspark Handling Missing Values (Tutorial 3)\n",
    "* Dropping Columns\n",
    "* Dropping Rows\n",
    "* Various Parameter in Dropping functionalities\n",
    "* Handling missing values by Mean, median, and mode\n",
    "\n",
    "(Starts at ~31:40 in the video)"
   ]
  },
  {
   "cell_type": "code",
   "execution_count": 2,
   "metadata": {},
   "outputs": [],
   "source": [
    "from pyspark.sql import SparkSession\n",
    "spark=SparkSession.builder.appName('Practice').getOrCreate()"
   ]
  },
  {
   "cell_type": "code",
   "execution_count": 3,
   "metadata": {},
   "outputs": [],
   "source": [
    "df_pyspark = spark.read.csv('test1.csv', header=True, inferSchema=True)"
   ]
  },
  {
   "cell_type": "code",
   "execution_count": 4,
   "metadata": {},
   "outputs": [
    {
     "name": "stdout",
     "output_type": "stream",
     "text": [
      "+------+----+----------+-------+\n",
      "|  Name| Age|Experience| Salary|\n",
      "+------+----+----------+-------+\n",
      "|Graeme|  26|        10|1000000|\n",
      "|  Rach|  25|         2|1000001|\n",
      "|  Noah|  28|         5|  50000|\n",
      "|Taylor|  32|         7|  60000|\n",
      "|  John|  28|      NULL|  60000|\n",
      "|  Hunt|NULL|         2|  30000|\n",
      "|  Rice|NULL|      NULL|  40000|\n",
      "+------+----+----------+-------+\n",
      "\n"
     ]
    }
   ],
   "source": [
    "df_pyspark.show()"
   ]
  },
  {
   "cell_type": "markdown",
   "metadata": {},
   "source": [
    "### Dropping columns"
   ]
  },
  {
   "cell_type": "code",
   "execution_count": 5,
   "metadata": {},
   "outputs": [
    {
     "name": "stdout",
     "output_type": "stream",
     "text": [
      "+----+----------+-------+\n",
      "| Age|Experience| Salary|\n",
      "+----+----------+-------+\n",
      "|  26|        10|1000000|\n",
      "|  25|         2|1000001|\n",
      "|  28|         5|  50000|\n",
      "|  32|         7|  60000|\n",
      "|  28|      NULL|  60000|\n",
      "|NULL|         2|  30000|\n",
      "|NULL|      NULL|  40000|\n",
      "+----+----------+-------+\n",
      "\n"
     ]
    }
   ],
   "source": [
    "no_name_df = df_pyspark.drop('Name').show()"
   ]
  },
  {
   "cell_type": "code",
   "execution_count": 6,
   "metadata": {},
   "outputs": [
    {
     "name": "stdout",
     "output_type": "stream",
     "text": [
      "+------+---+----------+-------+\n",
      "|  Name|Age|Experience| Salary|\n",
      "+------+---+----------+-------+\n",
      "|Graeme| 26|        10|1000000|\n",
      "|  Rach| 25|         2|1000001|\n",
      "|  Noah| 28|         5|  50000|\n",
      "|Taylor| 32|         7|  60000|\n",
      "+------+---+----------+-------+\n",
      "\n"
     ]
    }
   ],
   "source": [
    "# if you do not include any arguments in drop, it will drop all rows that contain any nulls\n",
    "all_drop_df = df_pyspark.na.drop().show()"
   ]
  },
  {
   "cell_type": "code",
   "execution_count": 7,
   "metadata": {},
   "outputs": [
    {
     "name": "stdout",
     "output_type": "stream",
     "text": [
      "+------+----+----------+-------+\n",
      "|  Name| Age|Experience| Salary|\n",
      "+------+----+----------+-------+\n",
      "|Graeme|  26|        10|1000000|\n",
      "|  Rach|  25|         2|1000001|\n",
      "|  Noah|  28|         5|  50000|\n",
      "|Taylor|  32|         7|  60000|\n",
      "|  John|  28|      NULL|  60000|\n",
      "|  Hunt|NULL|         2|  30000|\n",
      "|  Rice|NULL|      NULL|  40000|\n",
      "+------+----+----------+-------+\n",
      "\n",
      "+------+---+----------+-------+\n",
      "|  Name|Age|Experience| Salary|\n",
      "+------+---+----------+-------+\n",
      "|Graeme| 26|        10|1000000|\n",
      "|  Rach| 25|         2|1000001|\n",
      "|  Noah| 28|         5|  50000|\n",
      "|Taylor| 32|         7|  60000|\n",
      "+------+---+----------+-------+\n",
      "\n"
     ]
    }
   ],
   "source": [
    "### how = 'all' will only drop when all rows have a null value\n",
    "### how = 'any' will drop when any values in a row have nulls\n",
    "df_pyspark.na.drop(how='all').show()\n",
    "df_pyspark.na.drop(how='any').show()\n"
   ]
  },
  {
   "cell_type": "code",
   "execution_count": 8,
   "metadata": {},
   "outputs": [
    {
     "name": "stdout",
     "output_type": "stream",
     "text": [
      "+------+----+----------+-------+\n",
      "|  Name| Age|Experience| Salary|\n",
      "+------+----+----------+-------+\n",
      "|Graeme|  26|        10|1000000|\n",
      "|  Rach|  25|         2|1000001|\n",
      "|  Noah|  28|         5|  50000|\n",
      "|Taylor|  32|         7|  60000|\n",
      "|  John|  28|      NULL|  60000|\n",
      "|  Hunt|NULL|         2|  30000|\n",
      "+------+----+----------+-------+\n",
      "\n"
     ]
    }
   ],
   "source": [
    "## thresh=3 will make it so that only drop rows where there are at least 3 non null values in the row\n",
    "df_pyspark.na.drop(how='any',thresh=3).show()"
   ]
  },
  {
   "cell_type": "code",
   "execution_count": 12,
   "metadata": {},
   "outputs": [
    {
     "name": "stdout",
     "output_type": "stream",
     "text": [
      "+------+----+----------+-------+\n",
      "|  Name| Age|Experience| Salary|\n",
      "+------+----+----------+-------+\n",
      "|Graeme|  26|        10|1000000|\n",
      "|  Rach|  25|         2|1000001|\n",
      "|  Noah|  28|         5|  50000|\n",
      "|Taylor|  32|         7|  60000|\n",
      "|  Hunt|NULL|         2|  30000|\n",
      "+------+----+----------+-------+\n",
      "\n"
     ]
    },
    {
     "data": {
      "text/plain": [
       "list"
      ]
     },
     "execution_count": 12,
     "metadata": {},
     "output_type": "execute_result"
    }
   ],
   "source": [
    "### Using subset\n",
    "### This example will drop any row that has nulls in the experience column\n",
    "df_pyspark.na.drop(how='any', subset=['Experience']).show()\n",
    "type(df_pyspark.columns)"
   ]
  },
  {
   "cell_type": "markdown",
   "metadata": {},
   "source": [
    "### Current general idea of how I will be filtering out the libraries for Ning"
   ]
  },
  {
   "cell_type": "code",
   "execution_count": 17,
   "metadata": {},
   "outputs": [],
   "source": [
    "def has_age_column(spark_df):\n",
    "    output = \"\"\n",
    "    if 'Name' in spark_df.columns:\n",
    "        output += \"Has a name column\"\n",
    "        spark_df.select(['Name']).show() \n",
    "        # throw in a where statement to remove the certain types of values we are trying to filter by\n",
    "    else:\n",
    "       output +=  \"Does not have name column\"\n",
    "\n",
    "    print(output)\n",
    "    \n"
   ]
  },
  {
   "cell_type": "code",
   "execution_count": 16,
   "metadata": {},
   "outputs": [
    {
     "name": "stdout",
     "output_type": "stream",
     "text": [
      "+------+\n",
      "|  Name|\n",
      "+------+\n",
      "|Graeme|\n",
      "|  Rach|\n",
      "|  Noah|\n",
      "|Taylor|\n",
      "|  John|\n",
      "|  Hunt|\n",
      "|  Rice|\n",
      "+------+\n",
      "\n",
      "has a name column\n"
     ]
    }
   ],
   "source": [
    "has_age_column(df_pyspark)"
   ]
  },
  {
   "cell_type": "code",
   "execution_count": 25,
   "metadata": {},
   "outputs": [
    {
     "name": "stdout",
     "output_type": "stream",
     "text": [
      "+------+---+----------+-------+\n",
      "|  Name|Age|Experience| Salary|\n",
      "+------+---+----------+-------+\n",
      "|Graeme| 26|        10|1000000|\n",
      "|  Rach| 25|         2|1000001|\n",
      "|  Noah| 28|         5|  50000|\n",
      "|Taylor| 32|         7|  60000|\n",
      "|  John| 28|        -1|  60000|\n",
      "|  Hunt| -1|         2|  30000|\n",
      "|  Rice| -1|        -1|  40000|\n",
      "+------+---+----------+-------+\n",
      "\n"
     ]
    }
   ],
   "source": [
    "### Filling the Missing Value\n",
    "### this value you are filling with must be the same datatype as the column it is being put into.\n",
    "### So here all int columns with null values will have it replace with 0\n",
    "new_df = df_pyspark.na.fill(-1)\n",
    "new_df.show()"
   ]
  },
  {
   "cell_type": "code",
   "execution_count": 26,
   "metadata": {},
   "outputs": [
    {
     "name": "stdout",
     "output_type": "stream",
     "text": [
      "+------+---+----------+-------+\n",
      "|  Name|Age|Experience| Salary|\n",
      "+------+---+----------+-------+\n",
      "|Graeme| 26|        10|1000000|\n",
      "|  Rach| 25|         2|1000001|\n",
      "|  Noah| 28|         5|  50000|\n",
      "|Taylor| 32|         7|  60000|\n",
      "|  John| 28|        -1|  60000|\n",
      "|  Hunt| -1|         2|  30000|\n",
      "|  Rice| -1|        -1|  40000|\n",
      "+------+---+----------+-------+\n",
      "\n"
     ]
    }
   ],
   "source": [
    "# can also fill with a list\n",
    "df_pyspark.na.fill(-1, ['Age', 'Experience']).show()\n"
   ]
  },
  {
   "cell_type": "markdown",
   "metadata": {},
   "source": [
    "### replacing a null value with the mean or median of the column"
   ]
  },
  {
   "cell_type": "code",
   "execution_count": 37,
   "metadata": {},
   "outputs": [
    {
     "name": "stdout",
     "output_type": "stream",
     "text": [
      "+------+----+----------+-------+\n",
      "|  Name| Age|Experience| Salary|\n",
      "+------+----+----------+-------+\n",
      "|Graeme|  26|        10|1000000|\n",
      "|  Rach|  25|         2|1000001|\n",
      "|  Noah|  28|         5|  50000|\n",
      "|Taylor|  32|         7|  60000|\n",
      "|  John|  28|      NULL|  60000|\n",
      "|  Hunt|NULL|         2|  30000|\n",
      "|  Rice|NULL|      NULL|  40000|\n",
      "+------+----+----------+-------+\n",
      "\n"
     ]
    }
   ],
   "source": [
    "#before\n",
    "df_pyspark.show()"
   ]
  },
  {
   "cell_type": "code",
   "execution_count": 34,
   "metadata": {},
   "outputs": [],
   "source": [
    "from pyspark.ml.feature import Imputer\n",
    "\n",
    "imputer = Imputer(\n",
    "    inputCols = ['Age','Experience','Salary'],\n",
    "    outputCols = [\"{}_imputed\".format(c) for c in ['Age','Experience', 'Salary']]\n",
    ").setStrategy(\"mean\") # this could also be median or mode."
   ]
  },
  {
   "cell_type": "code",
   "execution_count": 35,
   "metadata": {},
   "outputs": [
    {
     "name": "stdout",
     "output_type": "stream",
     "text": [
      "+------+----+----------+-------+-----------+------------------+--------------+\n",
      "|  Name| Age|Experience| Salary|Age_imputed|Experience_imputed|Salary_imputed|\n",
      "+------+----+----------+-------+-----------+------------------+--------------+\n",
      "|Graeme|  26|        10|1000000|         26|                10|       1000000|\n",
      "|  Rach|  25|         2|1000001|         25|                 2|       1000001|\n",
      "|  Noah|  28|         5|  50000|         28|                 5|         50000|\n",
      "|Taylor|  32|         7|  60000|         32|                 7|         60000|\n",
      "|  John|  28|      NULL|  60000|         28|                 5|         60000|\n",
      "|  Hunt|NULL|         2|  30000|         27|                 2|         30000|\n",
      "|  Rice|NULL|      NULL|  40000|         27|                 5|         40000|\n",
      "+------+----+----------+-------+-----------+------------------+--------------+\n",
      "\n"
     ]
    }
   ],
   "source": [
    "imputer.fit(df_pyspark).transform(df_pyspark).show()"
   ]
  },
  {
   "cell_type": "code",
   "execution_count": null,
   "metadata": {},
   "outputs": [],
   "source": []
  }
 ],
 "metadata": {
  "kernelspec": {
   "display_name": "pyspark-env",
   "language": "python",
   "name": "python3"
  },
  "language_info": {
   "codemirror_mode": {
    "name": "ipython",
    "version": 3
   },
   "file_extension": ".py",
   "mimetype": "text/x-python",
   "name": "python",
   "nbconvert_exporter": "python",
   "pygments_lexer": "ipython3",
   "version": "3.11.5"
  }
 },
 "nbformat": 4,
 "nbformat_minor": 2
}
